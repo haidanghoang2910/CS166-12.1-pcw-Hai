{
 "cells": [
  {
   "cell_type": "markdown",
   "metadata": {},
   "source": [
    "#### Analytical\n",
    "\n",
    "We have:\n",
    "\n",
    "q = e^(k*(q-1))\n",
    "    \n",
    "-> k*(q-1)=ln(q)\n",
    "    \n",
    "-> k = ln(q)/(q-1)"
   ]
  },
  {
   "cell_type": "code",
   "execution_count": 2,
   "metadata": {},
   "outputs": [],
   "source": [
    "from scipy.optimize import root\n",
    "def calculate_q(k):\n",
    "    '''\n",
    "    Use a numerical root finder to determine q from the equation\n",
    "    q = exp(k*(q-1)).\n",
    "    '''\n",
    "    return root(lambda q: q - np.exp(k * (q - 1)), 0).x[0]"
   ]
  },
  {
   "cell_type": "code",
   "execution_count": 6,
   "metadata": {},
   "outputs": [],
   "source": [
    "import numpy as np\n",
    "import matplotlib.pyplot as plt"
   ]
  },
  {
   "cell_type": "code",
   "execution_count": 5,
   "metadata": {},
   "outputs": [],
   "source": [
    "k_list=np.linspace(1,10,500)\n",
    "list_q = []\n",
    "for i in k_list:\n",
    "    q = calculate_q(i)\n",
    "    list_q.append(q)"
   ]
  },
  {
   "cell_type": "code",
   "execution_count": 9,
   "metadata": {},
   "outputs": [
    {
     "data": {
      "image/png": "[encoded data removed]",
      "text/plain": [
       "<Figure size 432x288 with 1 Axes>"
      ]
     },
     "metadata": {
      "needs_background": "light"
     },
     "output_type": "display_data"
    }
   ],
   "source": [
    "plt.plot(k_list, list_q)\n",
    "plt.xlabel(\"k\")\n",
    "plt.ylabel(\"q\")\n",
    "plt.show()"
   ]
  },
  {
   "cell_type": "code",
   "execution_count": null,
   "metadata": {},
   "outputs": [],
   "source": []
  }
 ],
 "metadata": {
  "kernelspec": {
   "display_name": "Python 3",
   "language": "python",
   "name": "python3"
  },
  "language_info": {
   "codemirror_mode": {
    "name": "ipython",
    "version": 3
   },
   "file_extension": ".py",
   "mimetype": "text/x-python",
   "name": "python",
   "nbconvert_exporter": "python",
   "pygments_lexer": "ipython3",
   "version": "3.8.3"
  }
 },
 "nbformat": 4,
 "nbformat_minor": 4
}
